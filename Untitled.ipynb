{
 "cells": [
  {
   "cell_type": "code",
   "execution_count": 1,
   "id": "presidential-colors",
   "metadata": {},
   "outputs": [],
   "source": [
    "import pandas as pd"
   ]
  },
  {
   "cell_type": "code",
   "execution_count": 14,
   "id": "indonesian-rochester",
   "metadata": {},
   "outputs": [],
   "source": [
    "table1 = pd.read_csv('ONE.csv')"
   ]
  },
  {
   "cell_type": "code",
   "execution_count": 15,
   "id": "greatest-narrow",
   "metadata": {},
   "outputs": [
    {
     "data": {
      "text/html": [
       "<div>\n",
       "<style scoped>\n",
       "    .dataframe tbody tr th:only-of-type {\n",
       "        vertical-align: middle;\n",
       "    }\n",
       "\n",
       "    .dataframe tbody tr th {\n",
       "        vertical-align: top;\n",
       "    }\n",
       "\n",
       "    .dataframe thead th {\n",
       "        text-align: right;\n",
       "    }\n",
       "</style>\n",
       "<table border=\"1\" class=\"dataframe\">\n",
       "  <thead>\n",
       "    <tr style=\"text-align: right;\">\n",
       "      <th></th>\n",
       "      <th>Chromosome</th>\n",
       "      <th>Begin</th>\n",
       "      <th>End</th>\n",
       "      <th>Element</th>\n",
       "      <th>Strand</th>\n",
       "      <th>id</th>\n",
       "    </tr>\n",
       "  </thead>\n",
       "  <tbody>\n",
       "    <tr>\n",
       "      <th>0</th>\n",
       "      <td>CM017604.2</td>\n",
       "      <td>335908</td>\n",
       "      <td>338095</td>\n",
       "      <td>Helena</td>\n",
       "      <td>+</td>\n",
       "      <td>RM38</td>\n",
       "    </tr>\n",
       "    <tr>\n",
       "      <th>1</th>\n",
       "      <td>CM017604.2</td>\n",
       "      <td>1614563</td>\n",
       "      <td>1616268</td>\n",
       "      <td>Polyphemus</td>\n",
       "      <td>-</td>\n",
       "      <td>RM22</td>\n",
       "    </tr>\n",
       "    <tr>\n",
       "      <th>2</th>\n",
       "      <td>CM017604.2</td>\n",
       "      <td>3607934</td>\n",
       "      <td>3609665</td>\n",
       "      <td>Paris</td>\n",
       "      <td>-</td>\n",
       "      <td>T9</td>\n",
       "    </tr>\n",
       "    <tr>\n",
       "      <th>3</th>\n",
       "      <td>CM017604.2</td>\n",
       "      <td>4447305</td>\n",
       "      <td>4449012</td>\n",
       "      <td>Polyphemus</td>\n",
       "      <td>-</td>\n",
       "      <td>RM2</td>\n",
       "    </tr>\n",
       "    <tr>\n",
       "      <th>4</th>\n",
       "      <td>CM017604.2</td>\n",
       "      <td>4463902</td>\n",
       "      <td>4465633</td>\n",
       "      <td>Paris</td>\n",
       "      <td>-</td>\n",
       "      <td>T30</td>\n",
       "    </tr>\n",
       "    <tr>\n",
       "      <th>...</th>\n",
       "      <td>...</td>\n",
       "      <td>...</td>\n",
       "      <td>...</td>\n",
       "      <td>...</td>\n",
       "      <td>...</td>\n",
       "      <td>...</td>\n",
       "    </tr>\n",
       "    <tr>\n",
       "      <th>310</th>\n",
       "      <td>CM017608.2</td>\n",
       "      <td>9257943</td>\n",
       "      <td>9259650</td>\n",
       "      <td>Polyphemus</td>\n",
       "      <td>+</td>\n",
       "      <td>RM267</td>\n",
       "    </tr>\n",
       "    <tr>\n",
       "      <th>311</th>\n",
       "      <td>CM017608.2</td>\n",
       "      <td>14334469</td>\n",
       "      <td>14335224</td>\n",
       "      <td>Polyphemus</td>\n",
       "      <td>-</td>\n",
       "      <td>T117</td>\n",
       "    </tr>\n",
       "    <tr>\n",
       "      <th>312</th>\n",
       "      <td>CM017608.2</td>\n",
       "      <td>25291861</td>\n",
       "      <td>25293890</td>\n",
       "      <td>Polyphemus</td>\n",
       "      <td>-</td>\n",
       "      <td>RM290</td>\n",
       "    </tr>\n",
       "    <tr>\n",
       "      <th>313</th>\n",
       "      <td>CM017608.2</td>\n",
       "      <td>25607060</td>\n",
       "      <td>25608768</td>\n",
       "      <td>Polyphemus</td>\n",
       "      <td>-</td>\n",
       "      <td>T35</td>\n",
       "    </tr>\n",
       "    <tr>\n",
       "      <th>314</th>\n",
       "      <td>CM017609.2</td>\n",
       "      <td>1191303</td>\n",
       "      <td>1193686</td>\n",
       "      <td>Paris</td>\n",
       "      <td>+</td>\n",
       "      <td>RM307</td>\n",
       "    </tr>\n",
       "  </tbody>\n",
       "</table>\n",
       "<p>315 rows × 6 columns</p>\n",
       "</div>"
      ],
      "text/plain": [
       "     Chromosome     Begin       End     Element Strand     id\n",
       "0    CM017604.2    335908    338095      Helena      +   RM38\n",
       "1    CM017604.2   1614563   1616268  Polyphemus      -   RM22\n",
       "2    CM017604.2   3607934   3609665       Paris      -     T9\n",
       "3    CM017604.2   4447305   4449012  Polyphemus      -    RM2\n",
       "4    CM017604.2   4463902   4465633       Paris      -    T30\n",
       "..          ...       ...       ...         ...    ...    ...\n",
       "310  CM017608.2   9257943   9259650  Polyphemus      +  RM267\n",
       "311  CM017608.2  14334469  14335224  Polyphemus      -   T117\n",
       "312  CM017608.2  25291861  25293890  Polyphemus      -  RM290\n",
       "313  CM017608.2  25607060  25608768  Polyphemus      -    T35\n",
       "314  CM017609.2   1191303   1193686       Paris      +  RM307\n",
       "\n",
       "[315 rows x 6 columns]"
      ]
     },
     "execution_count": 15,
     "metadata": {},
     "output_type": "execute_result"
    }
   ],
   "source": [
    "table1"
   ]
  },
  {
   "cell_type": "code",
   "execution_count": 16,
   "id": "subject-mumbai",
   "metadata": {},
   "outputs": [],
   "source": [
    "table2 = pd.read_csv('TWO.csv')"
   ]
  },
  {
   "cell_type": "code",
   "execution_count": 76,
   "id": "aboriginal-candy",
   "metadata": {},
   "outputs": [],
   "source": [
    "table2 = table2.rename(columns = {'X..of.canonical.copy':'Percent_of_canon'})"
   ]
  },
  {
   "cell_type": "code",
   "execution_count": 77,
   "id": "discrete-halifax",
   "metadata": {},
   "outputs": [
    {
     "data": {
      "text/html": [
       "<div>\n",
       "<style scoped>\n",
       "    .dataframe tbody tr th:only-of-type {\n",
       "        vertical-align: middle;\n",
       "    }\n",
       "\n",
       "    .dataframe tbody tr th {\n",
       "        vertical-align: top;\n",
       "    }\n",
       "\n",
       "    .dataframe thead th {\n",
       "        text-align: right;\n",
       "    }\n",
       "</style>\n",
       "<table border=\"1\" class=\"dataframe\">\n",
       "  <thead>\n",
       "    <tr style=\"text-align: right;\">\n",
       "      <th></th>\n",
       "      <th>Length</th>\n",
       "      <th>Percent_of_canon</th>\n",
       "      <th>Chromatin</th>\n",
       "      <th>id</th>\n",
       "    </tr>\n",
       "  </thead>\n",
       "  <tbody>\n",
       "    <tr>\n",
       "      <th>0</th>\n",
       "      <td>2187</td>\n",
       "      <td>0.805525</td>\n",
       "      <td>Euchromatic</td>\n",
       "      <td>RM38</td>\n",
       "    </tr>\n",
       "    <tr>\n",
       "      <th>1</th>\n",
       "      <td>1705</td>\n",
       "      <td>0.998244</td>\n",
       "      <td>Euchromatic</td>\n",
       "      <td>RM22</td>\n",
       "    </tr>\n",
       "    <tr>\n",
       "      <th>2</th>\n",
       "      <td>1731</td>\n",
       "      <td>1.000578</td>\n",
       "      <td>Euchromatic</td>\n",
       "      <td>T9</td>\n",
       "    </tr>\n",
       "    <tr>\n",
       "      <th>3</th>\n",
       "      <td>1707</td>\n",
       "      <td>0.999415</td>\n",
       "      <td>Euchromatic</td>\n",
       "      <td>RM2</td>\n",
       "    </tr>\n",
       "    <tr>\n",
       "      <th>4</th>\n",
       "      <td>1731</td>\n",
       "      <td>1.000578</td>\n",
       "      <td>Euchromatic</td>\n",
       "      <td>T30</td>\n",
       "    </tr>\n",
       "    <tr>\n",
       "      <th>...</th>\n",
       "      <td>...</td>\n",
       "      <td>...</td>\n",
       "      <td>...</td>\n",
       "      <td>...</td>\n",
       "    </tr>\n",
       "    <tr>\n",
       "      <th>310</th>\n",
       "      <td>1707</td>\n",
       "      <td>0.999415</td>\n",
       "      <td>Euchromatic</td>\n",
       "      <td>RM267</td>\n",
       "    </tr>\n",
       "    <tr>\n",
       "      <th>311</th>\n",
       "      <td>755</td>\n",
       "      <td>0.442037</td>\n",
       "      <td>Euchromatic</td>\n",
       "      <td>T117</td>\n",
       "    </tr>\n",
       "    <tr>\n",
       "      <th>312</th>\n",
       "      <td>2029</td>\n",
       "      <td>1.187939</td>\n",
       "      <td>Heterochromatic</td>\n",
       "      <td>RM290</td>\n",
       "    </tr>\n",
       "    <tr>\n",
       "      <th>313</th>\n",
       "      <td>1708</td>\n",
       "      <td>1.000000</td>\n",
       "      <td>Heterochromatic</td>\n",
       "      <td>T35</td>\n",
       "    </tr>\n",
       "    <tr>\n",
       "      <th>314</th>\n",
       "      <td>2383</td>\n",
       "      <td>1.377457</td>\n",
       "      <td>Heterochromatic</td>\n",
       "      <td>RM307</td>\n",
       "    </tr>\n",
       "  </tbody>\n",
       "</table>\n",
       "<p>315 rows × 4 columns</p>\n",
       "</div>"
      ],
      "text/plain": [
       "     Length  Percent_of_canon        Chromatin     id\n",
       "0      2187          0.805525      Euchromatic   RM38\n",
       "1      1705          0.998244      Euchromatic   RM22\n",
       "2      1731          1.000578      Euchromatic     T9\n",
       "3      1707          0.999415      Euchromatic    RM2\n",
       "4      1731          1.000578      Euchromatic    T30\n",
       "..      ...               ...              ...    ...\n",
       "310    1707          0.999415      Euchromatic  RM267\n",
       "311     755          0.442037      Euchromatic   T117\n",
       "312    2029          1.187939  Heterochromatic  RM290\n",
       "313    1708          1.000000  Heterochromatic    T35\n",
       "314    2383          1.377457  Heterochromatic  RM307\n",
       "\n",
       "[315 rows x 4 columns]"
      ]
     },
     "execution_count": 77,
     "metadata": {},
     "output_type": "execute_result"
    }
   ],
   "source": [
    "table2"
   ]
  },
  {
   "cell_type": "markdown",
   "id": "recreational-isaac",
   "metadata": {},
   "source": [
    "Загрузим данные: первая табличка - транспозон, его положение на хромосоме, ориентация и текстовый идентификатор из программы, сохраненный как имя"
   ]
  },
  {
   "cell_type": "code",
   "execution_count": 67,
   "id": "changed-malta",
   "metadata": {},
   "outputs": [],
   "source": [
    "import sqlite3"
   ]
  },
  {
   "cell_type": "code",
   "execution_count": 68,
   "id": "taken-scout",
   "metadata": {},
   "outputs": [],
   "source": [
    "connection = sqlite3.connect('transposons.db')"
   ]
  },
  {
   "cell_type": "code",
   "execution_count": 70,
   "id": "generic-syndication",
   "metadata": {},
   "outputs": [
    {
     "data": {
      "text/plain": [
       "<sqlite3.Cursor at 0x7f665535b880>"
      ]
     },
     "execution_count": 70,
     "metadata": {},
     "output_type": "execute_result"
    }
   ],
   "source": [
    "connection.execute('''CREATE TABLE IF NOT EXISTS Elements (Element_id INTEGER PRIMARY KEY AUTOINCREMENT, Chromosome TEXT, Begin INTEGER, End INTEGER, Element TEXT, Strand TEXT, Name TEXT)''')"
   ]
  },
  {
   "cell_type": "code",
   "execution_count": 72,
   "id": "greatest-portable",
   "metadata": {},
   "outputs": [],
   "source": [
    "for row in table1.itertuples():\n",
    "    Chr = row.Chromosome\n",
    "    Begin = row.Begin\n",
    "    End = row.End\n",
    "    Element = row.Element\n",
    "    Strand = row.Strand\n",
    "    Id = row.id\n",
    "    connection.execute('INSERT INTO Elements (Chromosome, Begin, End, Element, Strand, Name) VALUES (?,?,?,?,?,?)', (Chr, Begin, End, Element, Strand, Id))\n",
    "connection.commit()"
   ]
  },
  {
   "cell_type": "markdown",
   "id": "tracked-armenia",
   "metadata": {},
   "source": [
    "Вторая табличка - для каждого транспозона длина и процент длины от канонической копии, а также структура хроматина в месте его локализации."
   ]
  },
  {
   "cell_type": "code",
   "execution_count": 74,
   "id": "removable-ranking",
   "metadata": {},
   "outputs": [
    {
     "data": {
      "text/plain": [
       "<sqlite3.Cursor at 0x7f665535b1f0>"
      ]
     },
     "execution_count": 74,
     "metadata": {},
     "output_type": "execute_result"
    }
   ],
   "source": [
    "connection.execute('''CREATE TABLE IF NOT EXISTS Details (Details_id INTEGER PRIMARY KEY AUTOINCREMENT, Length INTEGER, Percent_of_canon INTEGER, Chromatin TEXT, Name TEXT)''')"
   ]
  },
  {
   "cell_type": "code",
   "execution_count": 78,
   "id": "grateful-sender",
   "metadata": {},
   "outputs": [],
   "source": [
    "for row in table2.itertuples():\n",
    "    Lenght = row.Length\n",
    "    Percent = row.Percent_of_canon\n",
    "    Chromatin = row.Chromatin\n",
    "    Id = row.id\n",
    "    connection.execute('INSERT INTO Details (Length, Percent_of_canon, Chromatin, Name) VALUES (?,?,?,?)', (Lenght, Percent, Chromatin, Id))\n",
    "connection.commit()"
   ]
  },
  {
   "cell_type": "markdown",
   "id": "knowing-twelve",
   "metadata": {},
   "source": [
    "Теперь свяжем таблички:"
   ]
  },
  {
   "cell_type": "code",
   "execution_count": 80,
   "id": "atlantic-samoa",
   "metadata": {},
   "outputs": [
    {
     "data": {
      "text/plain": [
       "<sqlite3.Cursor at 0x7f66553615e0>"
      ]
     },
     "execution_count": 80,
     "metadata": {},
     "output_type": "execute_result"
    }
   ],
   "source": [
    "connection.execute('''CREATE TABLE IF NOT EXISTS Elements_with_chromatin (Link_id INTEGER PRIMARY KEY AUTOINCREMENT, \n",
    "Name TEXT, \n",
    "Chromatin TEXT,\n",
    "FOREIGN KEY (Name) REFERENCES Elements(Name),\n",
    "FOREIGN KEY (Chromatin) REFERENCES Details(Chromatin))''')"
   ]
  },
  {
   "cell_type": "markdown",
   "id": "hindu-provincial",
   "metadata": {},
   "source": [
    "Заполним табличку:"
   ]
  },
  {
   "cell_type": "code",
   "execution_count": 86,
   "id": "unknown-queens",
   "metadata": {},
   "outputs": [],
   "source": [
    "Name = table1['id']\n",
    "Chromatin = table2['Chromatin']"
   ]
  },
  {
   "cell_type": "code",
   "execution_count": 84,
   "id": "provincial-grain",
   "metadata": {},
   "outputs": [
    {
     "data": {
      "text/plain": [
       "0          Euchromatic\n",
       "1          Euchromatic\n",
       "2          Euchromatic\n",
       "3          Euchromatic\n",
       "4          Euchromatic\n",
       "            ...       \n",
       "310        Euchromatic\n",
       "311        Euchromatic\n",
       "312    Heterochromatic\n",
       "313    Heterochromatic\n",
       "314    Heterochromatic\n",
       "Name: Chromatin, Length: 315, dtype: object"
      ]
     },
     "execution_count": 84,
     "metadata": {},
     "output_type": "execute_result"
    }
   ],
   "source": [
    "for row in range(315):\n",
    "    connection.execute('INSERT INTO Elements_with_chromatin (Name, Chromatin) VALUES (?,?)', (Lenght, Percent, Chromatin, Id))\n",
    "connection.commit()"
   ]
  }
 ],
 "metadata": {
  "kernelspec": {
   "display_name": "Python 3",
   "language": "python",
   "name": "python3"
  },
  "language_info": {
   "codemirror_mode": {
    "name": "ipython",
    "version": 3
   },
   "file_extension": ".py",
   "mimetype": "text/x-python",
   "name": "python",
   "nbconvert_exporter": "python",
   "pygments_lexer": "ipython3",
   "version": "3.7.10"
  }
 },
 "nbformat": 4,
 "nbformat_minor": 5
}
